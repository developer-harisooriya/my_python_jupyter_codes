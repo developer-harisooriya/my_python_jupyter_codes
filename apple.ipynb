{
 "cells": [
  {
   "cell_type": "code",
   "execution_count": 4,
   "metadata": {},
   "outputs": [
    {
     "ename": "Terminator",
     "evalue": "",
     "output_type": "error",
     "traceback": [
      "\u001b[0;31m---------------------------------------------------------------------------\u001b[0m",
      "\u001b[0;31mTerminator\u001b[0m                                Traceback (most recent call last)",
      "Cell \u001b[0;32mIn[4], line 31\u001b[0m\n\u001b[1;32m     28\u001b[0m done()\n\u001b[1;32m     29\u001b[0m \u001b[39mfrom\u001b[39;00m \u001b[39mturtle\u001b[39;00m \u001b[39mimport\u001b[39;00m \u001b[39m*\u001b[39m\n\u001b[0;32m---> 31\u001b[0m width(\u001b[39m10\u001b[39;49m)\n\u001b[1;32m     32\u001b[0m begin_fill()\n\u001b[1;32m     33\u001b[0m left(\u001b[39m160\u001b[39m)\n",
      "File \u001b[0;32m<string>:5\u001b[0m, in \u001b[0;36mwidth\u001b[0;34m(width)\u001b[0m\n",
      "\u001b[0;31mTerminator\u001b[0m: "
     ]
    }
   ],
   "source": [
    "from turtle import *\n",
    "\n",
    "bgcolor('black')\n",
    "pencolor('white')\n",
    "width(10)\n",
    "begin_fill()\n",
    "left(160)\n",
    "circle(100, 100)\n",
    "circle(200, 60)\n",
    "circle(40, 90)\n",
    "circle(-40, 100)\n",
    "circle(40, 100)\n",
    "circle(200, 30)\n",
    "left(90)\n",
    "circle(-70, 150)\n",
    "left(120)\n",
    "circle(160, 55)\n",
    "end_fill()\n",
    "right(110)\n",
    "up()\n",
    "forward(25)\n",
    "down()\n",
    "begin_fill()\n",
    "circle(-110, 90)\n",
    "right(90)\n",
    "circle(-100, 90)\n",
    "end_fill()\n",
    "done()\n",
    "from turtle import *\n",
    "\n",
    "width(10)\n",
    "begin_fill()\n",
    "left(160)\n",
    "circle(100, 100)\n",
    "circle(200, 60)\n",
    "circle(40, 90)\n",
    "circle(-40, 100)\n",
    "circle(40, 100)\n",
    "circle(200, 30)\n",
    "left(90)\n",
    "circle(-70, 150)\n",
    "left(120)\n",
    "circle(160, 55)\n",
    "end_fill()\n",
    "right(110)\n",
    "up()\n",
    "forward(25)\n",
    "down()\n",
    "begin_fill()\n",
    "circle(-110, 90)\n",
    "right(90)\n",
    "circle(-100, 90)\n",
    "end_fill()\n",
    "done()"
   ]
  }
 ],
 "metadata": {
  "kernelspec": {
   "display_name": "Python 3",
   "language": "python",
   "name": "python3"
  },
  "language_info": {
   "codemirror_mode": {
    "name": "ipython",
    "version": 3
   },
   "file_extension": ".py",
   "mimetype": "text/x-python",
   "name": "python",
   "nbconvert_exporter": "python",
   "pygments_lexer": "ipython3",
   "version": "3.10.6"
  },
  "orig_nbformat": 4
 },
 "nbformat": 4,
 "nbformat_minor": 2
}

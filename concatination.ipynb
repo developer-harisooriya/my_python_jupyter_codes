{
 "cells": [
  {
   "cell_type": "code",
   "execution_count": null,
   "metadata": {},
   "outputs": [],
   "source": [
    "a=\"he\"\n",
    "b=\"llo\"\n",
    "c=\" x \"\n",
    "d=\"10\"\n",
    "print(a+b+c+d)"
   ]
  }
 ],
 "metadata": {
  "language_info": {
   "name": "python"
  },
  "orig_nbformat": 4
 },
 "nbformat": 4,
 "nbformat_minor": 2
}

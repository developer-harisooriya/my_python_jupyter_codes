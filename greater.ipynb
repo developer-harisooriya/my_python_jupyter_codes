{
 "cells": [
  {
   "cell_type": "code",
   "execution_count": 2,
   "metadata": {},
   "outputs": [
    {
     "name": "stdout",
     "output_type": "stream",
     "text": [
      "enter the first number:\n",
      "enter the second number\n",
      "60 islarger than 50\n"
     ]
    }
   ],
   "source": [
    "print(\"enter the first number:\")\n",
    "n=int(input(\"\"))\n",
    "print(\"enter the second number:\")\n",
    "N=int(input(\"\"))\n",
    "if n>N :\n",
    "    print(n,\"islarger than\",N)\n",
    "else :\n",
    "    print(N,\"islarger than\",n)\n"
   ]
  }
 ],
 "metadata": {
  "kernelspec": {
   "display_name": "Python 3",
   "language": "python",
   "name": "python3"
  },
  "language_info": {
   "codemirror_mode": {
    "name": "ipython",
    "version": 3
   },
   "file_extension": ".py",
   "mimetype": "text/x-python",
   "name": "python",
   "nbconvert_exporter": "python",
   "pygments_lexer": "ipython3",
   "version": "3.10.6"
  },
  "orig_nbformat": 4
 },
 "nbformat": 4,
 "nbformat_minor": 2
}

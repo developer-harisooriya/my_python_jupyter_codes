{
 "cells": [
  {
   "cell_type": "code",
   "execution_count": 3,
   "metadata": {},
   "outputs": [
    {
     "ename": "Terminator",
     "evalue": "",
     "output_type": "error",
     "traceback": [
      "\u001b[0;31m---------------------------------------------------------------------------\u001b[0m",
      "\u001b[0;31mTerminator\u001b[0m                                Traceback (most recent call last)",
      "Cell \u001b[0;32mIn[3], line 21\u001b[0m\n\u001b[1;32m     19\u001b[0m forward(\u001b[39m100\u001b[39m)\n\u001b[1;32m     20\u001b[0m h\u001b[39m+\u001b[39m\u001b[39m=\u001b[39m\u001b[39m0.02\u001b[39m\n\u001b[0;32m---> 21\u001b[0m color(colorsys\u001b[39m.\u001b[39;49mhsv_to_rgb(h,\u001b[39m1\u001b[39;49m,\u001b[39m1\u001b[39;49m))\n\u001b[1;32m     22\u001b[0m forward(\u001b[39m100\u001b[39m)\n\u001b[1;32m     23\u001b[0m left(\u001b[39m60\u001b[39m)\n",
      "File \u001b[0;32m<string>:5\u001b[0m, in \u001b[0;36mcolor\u001b[0;34m(*args)\u001b[0m\n",
      "\u001b[0;31mTerminator\u001b[0m: "
     ]
    }
   ],
   "source": [
    "from turtle import*\n",
    "import colorsys\n",
    "speed(90)\n",
    "hideturtle()\n",
    "bgcolor(\"black\")\n",
    "tracer(5)\n",
    "width(2)\n",
    "h=0.01\n",
    "for i in range(55):\n",
    "\tcolor(colorsys.hsv_to_rgb(h,1,1))\n",
    "\tforward(100)\n",
    "\tleft(60)\n",
    "\tforward(100)\n",
    "\tright(120)\n",
    "\tcircle(50)\n",
    "\tleft(240)\n",
    "\tforward(100)\n",
    "\tleft(60)\n",
    "\tforward(100)\n",
    "\th+=0.02\n",
    "\tcolor(colorsys.hsv_to_rgb(h,1,1))\n",
    "\tforward(100)\n",
    "\tleft(60)\n",
    "\tforward(100)\n",
    "\tright(120)\n",
    "\tcircle(-50)\n",
    "\tleft(240)\n",
    "\tforward(100)\n",
    "\tleft(60)\n",
    "\tforward(100)\n",
    "\tleft(2)\n",
    "\th+=0.02\n",
    "done()"
   ]
  }
 ],
 "metadata": {
  "kernelspec": {
   "display_name": "Python 3",
   "language": "python",
   "name": "python3"
  },
  "language_info": {
   "codemirror_mode": {
    "name": "ipython",
    "version": 3
   },
   "file_extension": ".py",
   "mimetype": "text/x-python",
   "name": "python",
   "nbconvert_exporter": "python",
   "pygments_lexer": "ipython3",
   "version": "3.10.6"
  },
  "orig_nbformat": 4
 },
 "nbformat": 4,
 "nbformat_minor": 2
}

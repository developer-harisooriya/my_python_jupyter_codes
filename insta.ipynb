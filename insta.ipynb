{
 "cells": [
  {
   "cell_type": "code",
   "execution_count": 1,
   "metadata": {},
   "outputs": [],
   "source": [
    "from turtle import*\n",
    "import turtle\n",
    "\n",
    "bgcolor('#ff0066')\n",
    "hideturtle()\n",
    "pencolor('white')\n",
    "width(23)\n",
    "penup()\n",
    "goto(160,-100)\n",
    "pendown()\n",
    "\n",
    "left(90)\n",
    "for i in range (4):\n",
    "    forward(250)\n",
    "    circle(34,90)\n",
    "\n",
    "penup()\n",
    "goto(85,30)\n",
    "pendown()\n",
    "circle(80,360)\n",
    "penup()\n",
    "goto(110,130)\n",
    "pendown()\n",
    "circle(7,360)\n",
    "\n",
    "# Hide the turtle and display the result\n",
    "turtle.hideturtle()\n",
    "turtle.done()"
   ]
  }
 ],
 "metadata": {
  "kernelspec": {
   "display_name": "Python 3",
   "language": "python",
   "name": "python3"
  },
  "language_info": {
   "codemirror_mode": {
    "name": "ipython",
    "version": 3
   },
   "file_extension": ".py",
   "mimetype": "text/x-python",
   "name": "python",
   "nbconvert_exporter": "python",
   "pygments_lexer": "ipython3",
   "version": "3.10.6"
  },
  "orig_nbformat": 4
 },
 "nbformat": 4,
 "nbformat_minor": 2
}

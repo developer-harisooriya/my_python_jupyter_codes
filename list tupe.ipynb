{
 "cells": [
  {
   "cell_type": "code",
   "execution_count": null,
   "metadata": {},
   "outputs": [],
   "source": [
    "list=[\"bike\", \"car\",\"aeroplane\"]\n",
    "tuple=(\"apple\",\"mango\",\"orange\")\n",
    "dic={\"sooriya\":\"karthi\",\"jana\":\"dhyan\"}\n",
    "print(list)\n",
    "print(tuple)\n",
    "print(dic)"
   ]
  }
 ],
 "metadata": {
  "language_info": {
   "name": "python"
  },
  "orig_nbformat": 4
 },
 "nbformat": 4,
 "nbformat_minor": 2
}

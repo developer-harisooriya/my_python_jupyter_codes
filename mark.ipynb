{
 "cells": [
  {
   "cell_type": "code",
   "execution_count": null,
   "metadata": {},
   "outputs": [],
   "source": [
    "print(\"enter your name:\")\n",
    "name=str(input())\n",
    "print(\"enter your mark:\")\n",
    "mark=int(input())\n",
    "if mark>250:\n",
    "    print(name,\"you took\",mark,\"and took first grade\")\n",
    "elif mark<100>250:\n",
    "        print(name,\"you took\",mark,\"and took second grade\")  \n",
    "else :\n",
    "          print(name,\"fool you failed by taking\",mark,\"as your mark\")      "
   ]
  }
 ],
 "metadata": {
  "language_info": {
   "name": "python"
  },
  "orig_nbformat": 4
 },
 "nbformat": 4,
 "nbformat_minor": 2
}

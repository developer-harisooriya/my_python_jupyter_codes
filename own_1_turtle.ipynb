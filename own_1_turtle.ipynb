{
 "cells": [
  {
   "cell_type": "code",
   "execution_count": 13,
   "metadata": {},
   "outputs": [],
   "source": [
    "from turtle import *\n",
    "import turtle\n",
    "\n",
    "bgcolor(\"white\")\n",
    "pencolor(\"red\")\n",
    "hideturtle()\n",
    "width(10)\n",
    "penup()\n",
    "goto(-30, -130)\n",
    "pendown()\n",
    "left(90)\n",
    "for i in range(3):\n",
    "    forward(240)\n",
    "    circle(30, -120)\n",
    "penup()\n",
    "goto(30, -130)\n",
    "pendown()\n",
    "\n",
    "turtle.done()"
   ]
  }
 ],
 "metadata": {
  "kernelspec": {
   "display_name": "Python 3",
   "language": "python",
   "name": "python3"
  },
  "language_info": {
   "codemirror_mode": {
    "name": "ipython",
    "version": 3
   },
   "file_extension": ".py",
   "mimetype": "text/x-python",
   "name": "python",
   "nbconvert_exporter": "python",
   "pygments_lexer": "ipython3",
   "version": "3.10.6"
  },
  "orig_nbformat": 4
 },
 "nbformat": 4,
 "nbformat_minor": 2
}

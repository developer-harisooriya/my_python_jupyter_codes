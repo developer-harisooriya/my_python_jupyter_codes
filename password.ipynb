{
 "cells": [
  {
   "cell_type": "code",
   "execution_count": 9,
   "metadata": {},
   "outputs": [
    {
     "name": "stdout",
     "output_type": "stream",
     "text": [
      "harisooriya please enter your passcode:\n",
      "congrats you found the password\n"
     ]
    }
   ],
   "source": [
    "print(\"please enter your passcode:\")\n",
    "a=int(input())\n",
    "if a==94561:\n",
    "    print(\"congrats you found the password\")\n",
    "else :\n",
    "    print(\"you bloody fool why do you put the wrong password my data is going to erase\")\n",
    "    print(\"my data is eraseing !!!!!\")"
   ]
  }
 ],
 "metadata": {
  "kernelspec": {
   "display_name": "Python 3",
   "language": "python",
   "name": "python3"
  },
  "language_info": {
   "codemirror_mode": {
    "name": "ipython",
    "version": 3
   },
   "file_extension": ".py",
   "mimetype": "text/x-python",
   "name": "python",
   "nbconvert_exporter": "python",
   "pygments_lexer": "ipython3",
   "version": "3.10.6"
  },
  "orig_nbformat": 4
 },
 "nbformat": 4,
 "nbformat_minor": 2
}

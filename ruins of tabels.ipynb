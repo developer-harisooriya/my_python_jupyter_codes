{
 "cells": [
  {
   "cell_type": "code",
   "execution_count": null,
   "metadata": {},
   "outputs": [],
   "source": [
    "# this program is made by v.harisooriya\n",
    "for i in range(1,21):\n",
    "    print(1*i,\"  \",2*i,\"  \",3*i,\"  \",4*i,\"  \",5*i,\"  \",6*i,\"  \",7*i,\"  \",8*i,\"  \",9*i,\"  \",10*i)    "
   ]
  }
 ],
 "metadata": {
  "kernelspec": {
   "display_name": "Python 3",
   "language": "python",
   "name": "python3"
  },
  "language_info": {
   "codemirror_mode": {
    "name": "ipython",
    "version": 3
   },
   "file_extension": ".py",
   "mimetype": "text/x-python",
   "name": "python",
   "nbconvert_exporter": "python",
   "pygments_lexer": "ipython3",
   "version": "3.10.6"
  },
  "orig_nbformat": 4
 },
 "nbformat": 4,
 "nbformat_minor": 2
}

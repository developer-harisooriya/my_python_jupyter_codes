{
 "cells": [
  {
   "cell_type": "code",
   "execution_count": null,
   "metadata": {},
   "outputs": [],
   "source": [
    "print(\"im harisooriya\")\n",
    "print(\"im studiying 7th std in kailash mansarovar school\")\n",
    "print(\"my father name is vasanthakumar\")\n",
    "print(\"my mother name is hemalatha\")\n",
    "print(\"my brother name is shrikarthikeyan\")\n",
    "print (\"thankyou\")"
   ]
  }
 ],
 "metadata": {
  "language_info": {
   "name": "python"
  },
  "orig_nbformat": 4
 },
 "nbformat": 4,
 "nbformat_minor": 2
}

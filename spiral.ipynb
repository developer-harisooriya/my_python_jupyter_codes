{
 "cells": [
  {
   "cell_type": "code",
   "execution_count": 8,
   "metadata": {},
   "outputs": [
    {
     "name": "stdout",
     "output_type": "stream",
     "text": [
      "thankyou for watching ;)\n"
     ]
    }
   ],
   "source": [
    "print(\"thankyou for watching ;)\")\n",
    "from turtle import *\n",
    "import turtle\n",
    "\n",
    "#hiding the turtle\n",
    "hideturtle()\n",
    "\n",
    "# Create a turtle object\n",
    "my_turtle = turtle.Turtle()\n",
    "\n",
    "# Set the screen background color\n",
    "turtle.bgcolor(\"black\")\n",
    "\n",
    "# Set the turtle shape and color\n",
    "my_turtle.shape(\"turtle\")\n",
    "my_turtle.color(\"white\")\n",
    "\n",
    "# Set the turtle's speed\n",
    "my_turtle.speed(0)\n",
    "\n",
    "# Function to draw the spiral shape\n",
    "def draw_spiral():\n",
    "    for i in range(200):\n",
    "        my_turtle.forward(i)\n",
    "        my_turtle.left(59)\n",
    "        my_turtle.color(\"white\" if i % 2 == 0 else \"red\")\n",
    "\n",
    "# Call the draw_spiral function\n",
    "draw_spiral()\n",
    "\n",
    "# Hide the turtle\n",
    "my_turtle.hideturtle()\n",
    "\n",
    "# Exit the program when the user clicks the screen\n",
    "turtle.exitonclick()\n"
   ]
  }
 ],
 "metadata": {
  "kernelspec": {
   "display_name": "Python 3",
   "language": "python",
   "name": "python3"
  },
  "language_info": {
   "codemirror_mode": {
    "name": "ipython",
    "version": 3
   },
   "file_extension": ".py",
   "mimetype": "text/x-python",
   "name": "python",
   "nbconvert_exporter": "python",
   "pygments_lexer": "ipython3",
   "version": "3.10.6"
  },
  "orig_nbformat": 4
 },
 "nbformat": 4,
 "nbformat_minor": 2
}

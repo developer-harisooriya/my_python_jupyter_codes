{
 "cells": [
  {
   "cell_type": "code",
   "execution_count": null,
   "metadata": {},
   "outputs": [],
   "source": [
    "a=\"harisooriya\"\n",
    "b=\"HELLO\"\n",
    "c=\"              py thon\"\n",
    "d=\"dog*cat*car*hello\"\n",
    "print(a.upper())\n",
    "print(b.lower())\n",
    "print(b.replace(\"ELLO\",\"i\"))\n",
    "print(c.split())\n",
    "print(c.strip())\n",
    "print(d.split(\"*\"))"
   ]
  }
 ],
 "metadata": {
  "language_info": {
   "name": "python"
  },
  "orig_nbformat": 4
 },
 "nbformat": 4,
 "nbformat_minor": 2
}

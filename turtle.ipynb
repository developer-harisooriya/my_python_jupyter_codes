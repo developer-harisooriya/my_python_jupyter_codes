from turtle import *
import turtle

bgcolor("white")
pencolor("red")
hideturtle()
width(10)
penup()
goto(-30, -130)
pendown()
left(90)
for i in range(3):
    forward(240)
    circle(30, -120)
penup()
goto(30, -130)
pendown()

turtle.done()
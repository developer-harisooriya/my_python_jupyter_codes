{
 "cells": [
  {
   "cell_type": "code",
   "execution_count": 2,
   "metadata": {},
   "outputs": [
    {
     "name": "stdout",
     "output_type": "stream",
     "text": [
      "hello please enter your password:\n",
      "wrong information !!!!!\n"
     ]
    }
   ],
   "source": [
    "print(\"hello please enter your password:\")\n",
    "a=input()\n",
    "if a==\"plant suces\" :\n",
    "    print(\"the spaceship is going to land in the earth now the earth is now is corroct spot to live now !\")\n",
    "else :\n",
    "     print(\"wrong information !!!!!\")       "
   ]
  }
 ],
 "metadata": {
  "kernelspec": {
   "display_name": "Python 3",
   "language": "python",
   "name": "python3"
  },
  "language_info": {
   "codemirror_mode": {
    "name": "ipython",
    "version": 3
   },
   "file_extension": ".py",
   "mimetype": "text/x-python",
   "name": "python",
   "nbconvert_exporter": "python",
   "pygments_lexer": "ipython3",
   "version": "3.10.6"
  },
  "orig_nbformat": 4
 },
 "nbformat": 4,
 "nbformat_minor": 2
}
